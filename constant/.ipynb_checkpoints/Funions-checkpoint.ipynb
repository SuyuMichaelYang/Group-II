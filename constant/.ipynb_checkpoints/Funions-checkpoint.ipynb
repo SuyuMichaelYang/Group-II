{
 "cells": [
  {
   "cell_type": "code",
   "execution_count": 1,
   "id": "aa3d0335",
   "metadata": {
    "executionInfo": {
     "elapsed": 8,
     "status": "ok",
     "timestamp": 1645201020353,
     "user": {
      "displayName": "Yusuf Ismail",
      "photoUrl": "https://lh3.googleusercontent.com/a-/AOh14Gi0qITPFMMK1PzoO1ygcS0UvZ8XmQpCjdpP7SgFQeE=s64",
      "userId": "01109268713179766420"
     },
     "user_tz": 360
    },
    "id": "aa3d0335"
   },
   "outputs": [],
   "source": [
    "import numpy as np\n",
    "import scipy as sp\n",
    "import matplotlib.pyplot as plt\n",
    "from scipy.integrate import solve_ivp\n",
    "import random as random\n",
    "import time\n",
    "from matplotlib.animation import FuncAnimation\n"
   ]
  },
  {
   "cell_type": "code",
   "execution_count": 2,
   "id": "e79cdc95",
   "metadata": {
    "colab": {
     "base_uri": "https://localhost:8080/",
     "height": 287
    },
    "executionInfo": {
     "elapsed": 6360,
     "status": "ok",
     "timestamp": 1644956826809,
     "user": {
      "displayName": "Yusuf Ismail",
      "photoUrl": "https://lh3.googleusercontent.com/a-/AOh14Gi0qITPFMMK1PzoO1ygcS0UvZ8XmQpCjdpP7SgFQeE=s64",
      "userId": "01109268713179766420"
     },
     "user_tz": 360
    },
    "id": "e79cdc95",
    "outputId": "4bdba603-c6ae-40f3-cfc3-06c8c042832c",
    "scrolled": true
   },
   "outputs": [
    {
     "data": {
      "text/plain": [
       "(-4.0, 4.0)"
      ]
     },
     "execution_count": 2,
     "metadata": {},
     "output_type": "execute_result"
    },
    {
     "data": {
      "image/png": "[encoded data removed]",
      "text/plain": [
       "<Figure size 432x288 with 1 Axes>"
      ]
     },
     "metadata": {
      "needs_background": "light"
     },
     "output_type": "display_data"
    }
   ],
   "source": [
    "def f (t,x):\n",
    "    a= 2\n",
    "    b =1 \n",
    "    return np.dot(np.array([[0,1],[1 - x[0],0]]), x) + [0,0.5*np.cos(0.5*t)]\n",
    "# def f (t,x):\n",
    "    # return ((0.5*x * (1-x) )- (0.4*x) )\n",
    "    \n",
    "fig, ax = plt.subplots()\n",
    "\n",
    "t_eval = np.linspace(0,100,5000)\n",
    "sol = []\n",
    "for i in range (1):    \n",
    "    sol.append(solve_ivp(f,[0,100], [1,.5],t_eval=t_eval))\n",
    "#     sol.append(solve_ivp(f,[0,100], [-2,0],t_eval=t_eval))\n",
    "    \n",
    "    ax.plot(sol[i].y[0],sol[i].y[1])\n",
    "    \n",
    "ax.set_ylim(-4,4)\n",
    "ax.set_xlim(-4,4)\n",
    "\n",
    "# plt.show()\n"
   ]
  },
  {
   "cell_type": "code",
   "execution_count": null,
   "id": "ec45877a",
   "metadata": {},
   "outputs": [],
   "source": []
  }
 ],
 "metadata": {
  "colab": {
   "collapsed_sections": [],
   "name": "Funions.ipynb",
   "provenance": []
  },
  "kernelspec": {
   "display_name": "Python 3 (ipykernel)",
   "language": "python",
   "name": "python3"
  },
  "language_info": {
   "codemirror_mode": {
    "name": "ipython",
    "version": 3
   },
   "file_extension": ".py",
   "mimetype": "text/x-python",
   "name": "python",
   "nbconvert_exporter": "python",
   "pygments_lexer": "ipython3",
   "version": "3.9.5"
  }
 },
 "nbformat": 4,
 "nbformat_minor": 5
}
